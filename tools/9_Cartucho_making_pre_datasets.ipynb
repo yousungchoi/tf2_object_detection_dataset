{
 "cells": [
  {
   "cell_type": "markdown",
   "metadata": {},
   "source": [
    "# mAP 산정을 위한 Cartucho (https://github.com/Cartucho/mAP) 이용하기.\n",
    "Cartucho 를 이용하기 위해서는 먼저, Cartucho 를 통해 산정할 mAP 를 구하고자, Data가 필요한데,\\\n",
    "제공해야하는 Data는 다음과 같다.\n",
    "1) Test dataset image 들의 Ground Truth 가 저장된 txt files.\\\n",
    "2) Test dataset image 들을 inference 한 결과가 저장된 txt files.\\\n",
    "그래서 위 두 가지의 파일을 만들기 위한 과정을 아래에 적는다."
   ]
  },
  {
   "cell_type": "code",
   "execution_count": 19,
   "metadata": {},
   "outputs": [
    {
     "data": {
      "application/javascript": [
       "IPython.notebook.set_autosave_interval(300000)"
      ]
     },
     "metadata": {},
     "output_type": "display_data"
    },
    {
     "name": "stdout",
     "output_type": "stream",
     "text": [
      "Autosaving every 300 seconds\n"
     ]
    }
   ],
   "source": [
    "%autosave 300"
   ]
  },
  {
   "cell_type": "code",
   "execution_count": 12,
   "metadata": {},
   "outputs": [],
   "source": [
    "import os\n",
    "os.environ[\"CUDA_DEVICE_ORDER\"]=\"PCI_BUS_ID\"   \n",
    "os.environ[\"CUDA_VISIBLE_DEVICES\"]=\"2\"\n"
   ]
  },
  {
   "cell_type": "code",
   "execution_count": 1,
   "metadata": {},
   "outputs": [
    {
     "name": "stdout",
     "output_type": "stream",
     "text": [
      "2.4.1\n",
      "[]\n"
     ]
    }
   ],
   "source": [
    "import tensorflow as tf\n",
    "print(tf.__version__)\n",
    "print(tf.config.list_physical_devices('GPU'))"
   ]
  },
  {
   "cell_type": "markdown",
   "metadata": {},
   "source": [
    "# 2) Test dataset image 들을 inference 한 결과가 저장된 txt file을 뽑기 위한 과정"
   ]
  },
  {
   "cell_type": "code",
   "execution_count": 2,
   "metadata": {},
   "outputs": [
    {
     "name": "stdout",
     "output_type": "stream",
     "text": [
      "{1: {'id': 1, 'name': 'Cursor'}}\n"
     ]
    }
   ],
   "source": [
    "# 추론을 통해 얻은 test data들의 결과를 가지고 txt파일로 저장하기 위해 다음과 같이 수행.\n",
    "\n",
    "\n",
    "import io\n",
    "import os\n",
    "import scipy.misc\n",
    "import numpy as np\n",
    "import six\n",
    "import time\n",
    "\n",
    "from six import BytesIO\n",
    "\n",
    "import matplotlib\n",
    "import matplotlib.pyplot as plt\n",
    "from PIL import Image, ImageDraw, ImageFont\n",
    "\n",
    "import tensorflow as tf\n",
    "from object_detection.utils import visualization_utils as viz_utils\n",
    "from object_detection.utils import label_map_util\n",
    "\n",
    "%matplotlib inline\n",
    "\n",
    "def load_image_into_numpy_array(path):\n",
    "  \"\"\"Load an image from file into a numpy array.\n",
    "\n",
    "  Puts image into numpy array to feed into tensorflow graph.\n",
    "  Note that by convention we put it into a numpy array with shape\n",
    "  (height, width, channels), where channels=3 for RGB.\n",
    "\n",
    "  Args:\n",
    "    path: a file path (this can be local or on colossus)\n",
    "\n",
    "  Returns:\n",
    "    uint8 numpy array with shape (img_height, img_width, 3)\n",
    "  \"\"\"\n",
    "  img_data = tf.io.gfile.GFile(path, 'rb').read()\n",
    "  image = Image.open(BytesIO(img_data))\n",
    "  (im_width, im_height) = image.size\n",
    "#   print(im_width, im_height)\n",
    "  return np.array(image.getdata()).reshape(\n",
    "      (im_height, im_width, 3)).astype(np.uint8)\n",
    "\n",
    "# Path to label map file\n",
    "PATH_TO_LABELS = os.path.join('/home001/yousung.choi/projects/project_coordination/workspace/training_demo/annotations','label_map.pbtxt')\n",
    "\n",
    "# Number of classes the object detector can identify\n",
    "NUM_CLASSES = 1\n",
    "\n",
    "# Load the label map.\n",
    "# Label maps map indices to category names, so that when our convolution\n",
    "# network predicts `5`, we know that this corresponds to `king`.\n",
    "# Here we use internal utility functions, but anything that returns a\n",
    "# dictionary mapping integers to appropriate string labels would be fine\n",
    "label_map = label_map_util.load_labelmap(PATH_TO_LABELS)\n",
    "categories = label_map_util.convert_label_map_to_categories(label_map, max_num_classes=NUM_CLASSES, use_display_name=True)\n",
    "category_index = label_map_util.create_category_index(categories)\n",
    "\n",
    "# 1: {'id': 1, 'name': 'book'},\n",
    "print(category_index)"
   ]
  },
  {
   "cell_type": "code",
   "execution_count": 3,
   "metadata": {},
   "outputs": [
    {
     "name": "stdout",
     "output_type": "stream",
     "text": [
      "Elapsed time: 8.76283860206604s\n"
     ]
    }
   ],
   "source": [
    "start_time = time.time()\n",
    "tf.keras.backend.clear_session()\n",
    "# detect_fn = tf.saved_model.load('/home/yousungchoi/classes/1_Ambient_computing/99_project/2_pretest_Ambient_project/workspace/training_demo/exported-models/14th_trial/saved_model')\n",
    "# detect_fn = tf.saved_model.load('/home001/yousung.choi/projects/project_coordination/workspace/training_demo/exported-models/1st_trial/saved_model')\n",
    "detect_fn = tf.saved_model.load('/home001/yousung.choi/projects/project_coordination/workspace/training_demo/exported-models/3rd_trial_210323/saved_model')\n",
    "end_time = time.time()\n",
    "elapsed_time = end_time - start_time\n",
    "print('Elapsed time: ' + str(elapsed_time) + 's')"
   ]
  },
  {
   "cell_type": "code",
   "execution_count": 4,
   "metadata": {},
   "outputs": [
    {
     "name": "stdout",
     "output_type": "stream",
     "text": [
      "item {\n",
      "  id: 1\n",
      "  name: 'Cursor'\n",
      "}\n",
      "\n"
     ]
    }
   ],
   "source": [
    "with open(PATH_TO_LABELS, 'r') as f:\n",
    "    for line in f:\n",
    "        print(line, end=\"\")"
   ]
  },
  {
   "cell_type": "code",
   "execution_count": 10,
   "metadata": {},
   "outputs": [
    {
     "name": "stderr",
     "output_type": "stream",
     "text": [
      "100%|██████████| 360/360 [02:40<00:00,  2.24it/s]"
     ]
    },
    {
     "name": "stdout",
     "output_type": "stream",
     "text": [
      "Done\n"
     ]
    },
    {
     "name": "stderr",
     "output_type": "stream",
     "text": [
      "\n"
     ]
    }
   ],
   "source": [
    "import os\n",
    "import xml.etree.ElementTree as ET\n",
    "import cv2\n",
    "from tqdm import tqdm\n",
    "\n",
    "\n",
    "# file_path = '/home001/yousung.choi/projects/project_coordination/workspace/training_demo/images/test'\n",
    "file_path = '/home001/yousung.choi/projects/project_coordination/tools/2_preprocessing_test/Rainbow_Test/4_5_setting_alarm_onoff/'\n",
    "file_names = os.listdir(file_path)\n",
    "file_names.sort()\n",
    "\n",
    "resultDir = \"/home001/yousung.choi/projects/project_coordination/tools/Cartucho/mAP/input/detection-results\"\n",
    "if not os.path.isdir(resultDir):\n",
    "    os.mkdir(resultDir)\n",
    "\n",
    "elapsed = []\n",
    "labels = ['Cursor']\n",
    "for i, file in enumerate(tqdm(file_names)):\n",
    "    if file.endswith('.jpg'):\n",
    "        # inference image by image\n",
    "#         print(file)\n",
    "        image_path = os.path.join(file_path, file)\n",
    "        image_np = load_image_into_numpy_array(image_path)\n",
    "        input_tensor = np.expand_dims(image_np, 0)\n",
    "        start_time = time.time()      \n",
    "        detections = detect_fn(input_tensor)\n",
    "        end_time = time.time()\n",
    "        \n",
    "        # file name to save\n",
    "        file_name = file.split('.')\n",
    "        new_file = resultDir + '/' + file_name[0] + '.txt'\n",
    "        \n",
    "        # get output after inference\n",
    "        true_idx = detections['detection_scores'][0] > 0.9\n",
    "        scores = detections['detection_scores'][0][true_idx].numpy()\n",
    "        boxes = detections['detection_boxes'][0][true_idx].numpy() * 640\n",
    "        boxes = np.around(boxes).astype(int)\n",
    "        classes = detections['detection_classes'][0][true_idx].numpy().astype(np.int32)\n",
    "        \n",
    "#         print(true_idx)\n",
    "#         print(scores, boxes, classes)\n",
    "\n",
    "        f = open(new_file, 'w', encoding='UTF8')\n",
    "        class_list = set()\n",
    "        \n",
    "        for idx, one_class in enumerate(classes):\n",
    "            data = labels[int(one_class) - 1] + \" \"\n",
    "            data += str(scores[idx]) + \" \" + str(boxes[idx][1]) + \" \" + str(boxes[idx][0]) + \" \" + str(boxes[idx][3]) + \" \" + str(boxes[idx][2]) + \" \" + \"\\n\"\n",
    "            f.write(data)\n",
    "        f.close()\n",
    "    \n",
    "print(\"Done\")"
   ]
  },
  {
   "cell_type": "markdown",
   "metadata": {},
   "source": [
    "# 1) Test dataset image 들의 Ground Truth 가 저장된 txt files을 뽑기 위한 과정"
   ]
  },
  {
   "cell_type": "code",
   "execution_count": 22,
   "metadata": {},
   "outputs": [
    {
     "name": "stderr",
     "output_type": "stream",
     "text": [
      "100%|██████████| 270/270 [00:00<00:00, 5196.73it/s]\n"
     ]
    }
   ],
   "source": [
    "# 결과\n",
    "import cv2\n",
    "import numpy as np\n",
    "import os\n",
    "import xml.etree.ElementTree as ET\n",
    "\n",
    "import math\n",
    "\n",
    "targetDir = \"/home001/yousung.choi/projects/project_coordination/tools/2_preprocessing_test/Rainbow_Test/13_Qmemo_typing_and_drawing/\"\n",
    "resizeDir = \"/home001/yousung.choi/projects/project_coordination/tools/Cartucho/mAP/input/ground-truth/\"\n",
    "\n",
    "if not os.path.isdir(resizeDir):\n",
    "    os.mkdir(resizeDir)\n",
    "    \n",
    "# targetDir에서 filename 을 리스트로 가져오기\n",
    "_dir = os.listdir(targetDir)\n",
    "file_list = []\n",
    "for file in _dir:\n",
    "    if '.xml' in file:\n",
    "        temp = file.split(\".\")\n",
    "        file_list.append(temp[0])\n",
    "#         print(temp[0])\n",
    "\n",
    "for file in tqdm(file_list):\n",
    "\n",
    "    org_xml_file = targetDir + file + \".xml\"\n",
    "    edit_txt_file = resizeDir + file + \".txt\"\n",
    "\n",
    "    f = open(edit_txt_file, 'w', encoding='UTF8')\n",
    "\n",
    "    if os.path.isfile(org_xml_file):\n",
    "        targetXML = open(org_xml_file, 'rt', encoding='UTF8')\n",
    "        tree = ET.parse(targetXML)\n",
    "        root = tree.getroot()\n",
    "\n",
    "        object_list = set()\n",
    "        # 좌표수정\n",
    "        for objects in root.iter(\"object\"):\n",
    "            object_tag = objects.find(\"name\")\n",
    "            xmin_tag = objects.find(\"bndbox\").find(\"xmin\")\n",
    "            ymin_tag = objects.find(\"bndbox\").find(\"ymin\")\n",
    "            xmax_tag = objects.find(\"bndbox\").find(\"xmax\")\n",
    "            ymax_tag = objects.find(\"bndbox\").find(\"ymax\")\n",
    "            if object_tag.text in object_list:\n",
    "                data = str(object_tag.text) + \" \" + str(xmin_tag.text) + \" \" + str(ymin_tag.text) + \" \" + str(\n",
    "                    xmax_tag.text) + \" \" + str(ymax_tag.text) + \" \" + \"difficult\\n\"\n",
    "#                 print(data)\n",
    "            else:\n",
    "                data = str(object_tag.text) + \" \" + str(xmin_tag.text) + \" \" + str(ymin_tag.text) + \" \" + str(\n",
    "                    xmax_tag.text) + \" \" + str(ymax_tag.text) + \"\\n\"\n",
    "#                 print(data)\n",
    "\n",
    "            object_list.add(object_tag.text)\n",
    "            f.write(data)\n",
    "\n",
    "        f.close()\n",
    "#         print(file + \"[success]\")\n",
    "        # xml 저장"
   ]
  },
  {
   "cell_type": "code",
   "execution_count": 1,
   "metadata": {},
   "outputs": [
    {
     "name": "stdout",
     "output_type": "stream",
     "text": [
      "1_preprocessing_Data_Acquisition_preprocessing.ipynb  Cartucho\r\n",
      "9_Cartucho_making_pre_datasets.ipynb\t\t      preprocessing_test\r\n"
     ]
    }
   ],
   "source": [
    "!ls"
   ]
  },
  {
   "cell_type": "markdown",
   "metadata": {},
   "source": [
    "# gloning Cartucho and erase unecessary files\n",
    "# and copy result files into folders"
   ]
  },
  {
   "cell_type": "code",
   "execution_count": 13,
   "metadata": {},
   "outputs": [
    {
     "name": "stderr",
     "output_type": "stream",
     "text": [
      "Cloning into 'mAP'...\n"
     ]
    }
   ],
   "source": [
    "%%bash\n",
    "rm -rf Cartucho\n",
    "mkdir Cartucho\n",
    "cd Cartucho\n",
    "git clone https://github.com/Cartucho/mAP\n",
    "rm -rf mAP/input/detection-results/*\n",
    "rm -rf mAP/input/ground-truth/*\n",
    "rm -rf mAP/input/images-optional/*\n",
    "cp /home001/yousung.choi/projects/project_coordination/workspace/training_demo/images/Cartucho/detection-results/* mAP/input/detection-results\n",
    "cp /home001/yousung.choi/projects/project_coordination/workspace/training_demo/images/Cartucho/groundtruth/* mAP/input/ground-truth"
   ]
  },
  {
   "cell_type": "code",
   "execution_count": 11,
   "metadata": {},
   "outputs": [
    {
     "name": "stdout",
     "output_type": "stream",
     "text": [
      "88.48% = Cursor AP \n",
      "mAP = 88.48%\n",
      "Figure(640x480)\n"
     ]
    }
   ],
   "source": [
    "%%bash\n",
    "cd Cartucho/mAP\n",
    "python3 main.py\n",
    "\n",
    "\n"
   ]
  },
  {
   "cell_type": "markdown",
   "metadata": {},
   "source": [
    "#### False Negative 를 위한 분석\n",
    "## Recall 율 때문에 Precision 이 높아지는데, Recall 에 영향을 줄 수 있는 False Negative (정답인데 정답으로 분류가 명확히 되지 않는 녀석들) 로 분류된 인자들이 어떤 것인지 살펴봐야 함\n",
    "### 방법은, Detection "
   ]
  },
  {
   "cell_type": "code",
   "execution_count": 27,
   "metadata": {},
   "outputs": [
    {
     "name": "stdout",
     "output_type": "stream",
     "text": [
      "['images1142_resized_linear_0414.txt', 'images1143_resized_linear_0414.txt', 'images1144_resized_linear_0414.txt', 'images1145_resized_linear_0414.txt', 'images1146_resized_linear_0414.txt', 'images1147_resized_linear_0414.txt', 'images1148_resized_linear_0414.txt', 'images1149_resized_linear_0414.txt', 'images1150_resized_linear_0414.txt', 'images1151_resized_linear_0414.txt', 'images1152_resized_linear_0414.txt', 'images1153_resized_linear_0414.txt', 'images1154_resized_linear_0414.txt', 'images13054_resized_linear_0414.txt', 'images13056_resized_linear_0414.txt', 'images13057_resized_linear_0414.txt', 'images13059_resized_linear_0414.txt', 'images13060_resized_linear_0414.txt', 'images13112_resized_linear_0414.txt', 'images13113_resized_linear_0414.txt', 'images13114_resized_linear_0414.txt', 'images13115_resized_linear_0414.txt', 'images13116_resized_linear_0414.txt', 'images13117_resized_linear_0414.txt', 'images13118_resized_linear_0414.txt', 'images13119_resized_linear_0414.txt', 'images13120_resized_linear_0414.txt', 'images13121_resized_linear_0414.txt', 'images13122_resized_linear_0414.txt', 'images13123_resized_linear_0414.txt', 'images13124_resized_linear_0414.txt', 'images13125_resized_linear_0414.txt', 'images13126_resized_linear_0414.txt', 'images1733_resized_linear_0414.txt', 'images1735_resized_linear_0414.txt', 'images1736_resized_linear_0414.txt', 'images1737_resized_linear_0414.txt', 'images1738_resized_linear_0414.txt', 'images1739_resized_linear_0414.txt', 'images1741_resized_linear_0414.txt', 'images1742_resized_linear_0414.txt', 'images1743_resized_linear_0414.txt', 'images1744_resized_linear_0414.txt', 'images1745_resized_linear_0414.txt', 'images1747_resized_linear_0414.txt', 'images1748_resized_linear_0414.txt', 'images1749_resized_linear_0414.txt', 'images2052_resized_linear_0414.txt', 'images2053_resized_linear_0414.txt', 'images2054_resized_linear_0414.txt', 'images2059_resized_linear_0414.txt', 'images2167_resized_linear_0414.txt', 'images2167_resized_linear_0414.txt', 'images2238_resized_linear_0414.txt', 'images2238_resized_linear_0414.txt', 'images2238_resized_linear_0414.txt', 'images2239_resized_linear_0414.txt', 'images2239_resized_linear_0414.txt', 'images2239_resized_linear_0414.txt', 'images2240_resized_linear_0414.txt', 'images2240_resized_linear_0414.txt', 'images2240_resized_linear_0414.txt', 'images2241_resized_linear_0414.txt', 'images2241_resized_linear_0414.txt', 'images2241_resized_linear_0414.txt', 'images2242_resized_linear_0414.txt', 'images2242_resized_linear_0414.txt', 'images2242_resized_linear_0414.txt', 'images2243_resized_linear_0414.txt', 'images2243_resized_linear_0414.txt', 'images2243_resized_linear_0414.txt', 'images2244_resized_linear_0414.txt', 'images2244_resized_linear_0414.txt', 'images2244_resized_linear_0414.txt', 'images2245_resized_linear_0414.txt', 'images2245_resized_linear_0414.txt', 'images2245_resized_linear_0414.txt', 'images2246_resized_linear_0414.txt', 'images2246_resized_linear_0414.txt', 'images2246_resized_linear_0414.txt', 'images2247_resized_linear_0414.txt', 'images2247_resized_linear_0414.txt', 'images2247_resized_linear_0414.txt', 'images2248_resized_linear_0414.txt', 'images2248_resized_linear_0414.txt', 'images2248_resized_linear_0414.txt', 'images2249_resized_linear_0414.txt', 'images2249_resized_linear_0414.txt', 'images2249_resized_linear_0414.txt', 'images2250_resized_linear_0414.txt', 'images2250_resized_linear_0414.txt', 'images2250_resized_linear_0414.txt', 'images2251_resized_linear_0414.txt', 'images2251_resized_linear_0414.txt', 'images2251_resized_linear_0414.txt', 'images2252_resized_linear_0414.txt', 'images2252_resized_linear_0414.txt', 'images2252_resized_linear_0414.txt', 'images2253_resized_linear_0414.txt', 'images2253_resized_linear_0414.txt', 'images2253_resized_linear_0414.txt', 'images2254_resized_linear_0414.txt', 'images2254_resized_linear_0414.txt', 'images2254_resized_linear_0414.txt', 'images2256_resized_linear_0414.txt', 'images2256_resized_linear_0414.txt', 'images2257_resized_linear_0414.txt', 'images2257_resized_linear_0414.txt', 'images2258_resized_linear_0414.txt', 'images2258_resized_linear_0414.txt', 'images2259_resized_linear_0414.txt', 'images2259_resized_linear_0414.txt', 'images2260_resized_linear_0414.txt', 'images2260_resized_linear_0414.txt', 'images2261_resized_linear_0414.txt', 'images2261_resized_linear_0414.txt', 'images2262_resized_linear_0414.txt', 'images2262_resized_linear_0414.txt', 'images2263_resized_linear_0414.txt', 'images2263_resized_linear_0414.txt', 'images2264_resized_linear_0414.txt', 'images2264_resized_linear_0414.txt', 'images2265_resized_linear_0414.txt', 'images2265_resized_linear_0414.txt', 'images2266_resized_linear_0414.txt', 'images2266_resized_linear_0414.txt', 'images2267_resized_linear_0414.txt', 'images2267_resized_linear_0414.txt', 'images2268_resized_linear_0414.txt', 'images2268_resized_linear_0414.txt', 'images2269_resized_linear_0414.txt', 'images2269_resized_linear_0414.txt', 'images2270_resized_linear_0414.txt', 'images2270_resized_linear_0414.txt', 'images2270_resized_linear_0414.txt', 'images2271_resized_linear_0414.txt', 'images2271_resized_linear_0414.txt', 'images2271_resized_linear_0414.txt', 'images2272_resized_linear_0414.txt', 'images2272_resized_linear_0414.txt', 'images2272_resized_linear_0414.txt', 'images2273_resized_linear_0414.txt', 'images2273_resized_linear_0414.txt', 'images2273_resized_linear_0414.txt', 'images2274_resized_linear_0414.txt', 'images2274_resized_linear_0414.txt', 'images2274_resized_linear_0414.txt', 'images2275_resized_linear_0414.txt', 'images2275_resized_linear_0414.txt', 'images2275_resized_linear_0414.txt', 'images2276_resized_linear_0414.txt', 'images2276_resized_linear_0414.txt', 'images2277_resized_linear_0414.txt', 'images2277_resized_linear_0414.txt', 'images2278_resized_linear_0414.txt', 'images2278_resized_linear_0414.txt', 'images2279_resized_linear_0414.txt', 'images2279_resized_linear_0414.txt', 'images2280_resized_linear_0414.txt', 'images2280_resized_linear_0414.txt', 'images2281_resized_linear_0414.txt', 'images2281_resized_linear_0414.txt', 'images2282_resized_linear_0414.txt', 'images2282_resized_linear_0414.txt', 'images2283_resized_linear_0414.txt', 'images2283_resized_linear_0414.txt', 'images2284_resized_linear_0414.txt', 'images2284_resized_linear_0414.txt', 'images2285_resized_linear_0414.txt', 'images2285_resized_linear_0414.txt', 'images2285_resized_linear_0414.txt', 'images2286_resized_linear_0414.txt', 'images2286_resized_linear_0414.txt', 'images2286_resized_linear_0414.txt', 'images2287_resized_linear_0414.txt', 'images2287_resized_linear_0414.txt', 'images2287_resized_linear_0414.txt', 'images2288_resized_linear_0414.txt', 'images2288_resized_linear_0414.txt', 'images2288_resized_linear_0414.txt', 'images2289_resized_linear_0414.txt', 'images2289_resized_linear_0414.txt', 'images2289_resized_linear_0414.txt', 'images2290_resized_linear_0414.txt', 'images2290_resized_linear_0414.txt', 'images2290_resized_linear_0414.txt', 'images2291_resized_linear_0414.txt', 'images2291_resized_linear_0414.txt', 'images2291_resized_linear_0414.txt', 'images2292_resized_linear_0414.txt', 'images2292_resized_linear_0414.txt', 'images2292_resized_linear_0414.txt', 'images2293_resized_linear_0414.txt', 'images2293_resized_linear_0414.txt', 'images2293_resized_linear_0414.txt', 'images2294_resized_linear_0414.txt', 'images2294_resized_linear_0414.txt', 'images2294_resized_linear_0414.txt', 'images2295_resized_linear_0414.txt', 'images2295_resized_linear_0414.txt', 'images2295_resized_linear_0414.txt', 'images2296_resized_linear_0414.txt', 'images2296_resized_linear_0414.txt', 'images2296_resized_linear_0414.txt', 'images2297_resized_linear_0414.txt', 'images2297_resized_linear_0414.txt', 'images2297_resized_linear_0414.txt', 'images2297_resized_linear_0414.txt', 'images2298_resized_linear_0414.txt', 'images2298_resized_linear_0414.txt', 'images2298_resized_linear_0414.txt', 'images2299_resized_linear_0414.txt', 'images2299_resized_linear_0414.txt', 'images2299_resized_linear_0414.txt', 'images2300_resized_linear_0414.txt', 'images2300_resized_linear_0414.txt', 'images2300_resized_linear_0414.txt', 'images2301_resized_linear_0414.txt', 'images2301_resized_linear_0414.txt', 'images2301_resized_linear_0414.txt', 'images2302_resized_linear_0414.txt', 'images2302_resized_linear_0414.txt', 'images2302_resized_linear_0414.txt', 'images2303_resized_linear_0414.txt', 'images2303_resized_linear_0414.txt', 'images2303_resized_linear_0414.txt', 'images2304_resized_linear_0414.txt', 'images2304_resized_linear_0414.txt', 'images2304_resized_linear_0414.txt', 'images2305_resized_linear_0414.txt', 'images2305_resized_linear_0414.txt', 'images2305_resized_linear_0414.txt', 'images2305_resized_linear_0414.txt', 'images2306_resized_linear_0414.txt', 'images2306_resized_linear_0414.txt', 'images2306_resized_linear_0414.txt', 'images2307_resized_linear_0414.txt', 'images2307_resized_linear_0414.txt', 'images2307_resized_linear_0414.txt', 'images2308_resized_linear_0414.txt', 'images2308_resized_linear_0414.txt', 'images2308_resized_linear_0414.txt', 'images2309_resized_linear_0414.txt', 'images2309_resized_linear_0414.txt', 'images2309_resized_linear_0414.txt', 'images2310_resized_linear_0414.txt', 'images2310_resized_linear_0414.txt', 'images2310_resized_linear_0414.txt', 'images2311_resized_linear_0414.txt', 'images2311_resized_linear_0414.txt', 'images2311_resized_linear_0414.txt', 'images2312_resized_linear_0414.txt', 'images2312_resized_linear_0414.txt', 'images2312_resized_linear_0414.txt', 'images2313_resized_linear_0414.txt', 'images2313_resized_linear_0414.txt', 'images2313_resized_linear_0414.txt', 'images2314_resized_linear_0414.txt', 'images2314_resized_linear_0414.txt', 'images2314_resized_linear_0414.txt', 'images2315_resized_linear_0414.txt', 'images2315_resized_linear_0414.txt', 'images2315_resized_linear_0414.txt', 'images2316_resized_linear_0414.txt', 'images2316_resized_linear_0414.txt', 'images2316_resized_linear_0414.txt', 'images2317_resized_linear_0414.txt', 'images2317_resized_linear_0414.txt', 'images2317_resized_linear_0414.txt', 'images2318_resized_linear_0414.txt', 'images2318_resized_linear_0414.txt', 'images2318_resized_linear_0414.txt', 'images2319_resized_linear_0414.txt', 'images2319_resized_linear_0414.txt', 'images2319_resized_linear_0414.txt', 'images2320_resized_linear_0414.txt', 'images2320_resized_linear_0414.txt', 'images2320_resized_linear_0414.txt', 'images2321_resized_linear_0414.txt', 'images2321_resized_linear_0414.txt', 'images2321_resized_linear_0414.txt', 'images2322_resized_linear_0414.txt', 'images2322_resized_linear_0414.txt', 'images2322_resized_linear_0414.txt', 'images2323_resized_linear_0414.txt', 'images2323_resized_linear_0414.txt', 'images2323_resized_linear_0414.txt', 'images2324_resized_linear_0414.txt', 'images2324_resized_linear_0414.txt', 'images2324_resized_linear_0414.txt', 'images2325_resized_linear_0414.txt', 'images2325_resized_linear_0414.txt', 'images2325_resized_linear_0414.txt', 'images2326_resized_linear_0414.txt', 'images2326_resized_linear_0414.txt', 'images2326_resized_linear_0414.txt', 'images2327_resized_linear_0414.txt', 'images2327_resized_linear_0414.txt', 'images2327_resized_linear_0414.txt', 'images2328_resized_linear_0414.txt', 'images2328_resized_linear_0414.txt', 'images2328_resized_linear_0414.txt', 'images2329_resized_linear_0414.txt', 'images2329_resized_linear_0414.txt', 'images2329_resized_linear_0414.txt', 'images2330_resized_linear_0414.txt', 'images2330_resized_linear_0414.txt', 'images2330_resized_linear_0414.txt', 'images2331_resized_linear_0414.txt', 'images2331_resized_linear_0414.txt', 'images2331_resized_linear_0414.txt', 'images2332_resized_linear_0414.txt', 'images2332_resized_linear_0414.txt', 'images2332_resized_linear_0414.txt', 'images2333_resized_linear_0414.txt', 'images2333_resized_linear_0414.txt', 'images2333_resized_linear_0414.txt', 'images2334_resized_linear_0414.txt', 'images2334_resized_linear_0414.txt', 'images2334_resized_linear_0414.txt', 'images2335_resized_linear_0414.txt', 'images2335_resized_linear_0414.txt', 'images2335_resized_linear_0414.txt', 'images2336_resized_linear_0414.txt', 'images2336_resized_linear_0414.txt', 'images2336_resized_linear_0414.txt', 'images2337_resized_linear_0414.txt', 'images2337_resized_linear_0414.txt', 'images2337_resized_linear_0414.txt', 'images2338_resized_linear_0414.txt', 'images2338_resized_linear_0414.txt', 'images2338_resized_linear_0414.txt', 'images2339_resized_linear_0414.txt', 'images2339_resized_linear_0414.txt', 'images2339_resized_linear_0414.txt', 'images2340_resized_linear_0414.txt', 'images2340_resized_linear_0414.txt', 'images2340_resized_linear_0414.txt', 'images2341_resized_linear_0414.txt', 'images2341_resized_linear_0414.txt', 'images2341_resized_linear_0414.txt', 'images2342_resized_linear_0414.txt', 'images2342_resized_linear_0414.txt', 'images2342_resized_linear_0414.txt', 'images2343_resized_linear_0414.txt', 'images2343_resized_linear_0414.txt', 'images2343_resized_linear_0414.txt', 'images2344_resized_linear_0414.txt', 'images2344_resized_linear_0414.txt', 'images2344_resized_linear_0414.txt', 'images2345_resized_linear_0414.txt', 'images2345_resized_linear_0414.txt', 'images2345_resized_linear_0414.txt', 'images2346_resized_linear_0414.txt', 'images2346_resized_linear_0414.txt', 'images2346_resized_linear_0414.txt', 'images2347_resized_linear_0414.txt', 'images2347_resized_linear_0414.txt', 'images2348_resized_linear_0414.txt', 'images2348_resized_linear_0414.txt', 'images2348_resized_linear_0414.txt', 'images2349_resized_linear_0414.txt', 'images2349_resized_linear_0414.txt', 'images2350_resized_linear_0414.txt', 'images2350_resized_linear_0414.txt', 'images2351_resized_linear_0414.txt', 'images2351_resized_linear_0414.txt', 'images2352_resized_linear_0414.txt', 'images2352_resized_linear_0414.txt', 'images2352_resized_linear_0414.txt', 'images2353_resized_linear_0414.txt', 'images2353_resized_linear_0414.txt', 'images2353_resized_linear_0414.txt', 'images2353_resized_linear_0414.txt', 'images2354_resized_linear_0414.txt', 'images2354_resized_linear_0414.txt', 'images2354_resized_linear_0414.txt', 'images2355_resized_linear_0414.txt', 'images2355_resized_linear_0414.txt', 'images2355_resized_linear_0414.txt', 'images2356_resized_linear_0414.txt', 'images2356_resized_linear_0414.txt', 'images2356_resized_linear_0414.txt', 'images2357_resized_linear_0414.txt', 'images2357_resized_linear_0414.txt', 'images2357_resized_linear_0414.txt', 'images2358_resized_linear_0414.txt', 'images2358_resized_linear_0414.txt', 'images2358_resized_linear_0414.txt', 'images2359_resized_linear_0414.txt', 'images2359_resized_linear_0414.txt', 'images2359_resized_linear_0414.txt', 'images2360_resized_linear_0414.txt', 'images2360_resized_linear_0414.txt', 'images2360_resized_linear_0414.txt', 'images2361_resized_linear_0414.txt', 'images2361_resized_linear_0414.txt', 'images2361_resized_linear_0414.txt', 'images2362_resized_linear_0414.txt', 'images2362_resized_linear_0414.txt', 'images2362_resized_linear_0414.txt', 'images2363_resized_linear_0414.txt', 'images2363_resized_linear_0414.txt', 'images2363_resized_linear_0414.txt', 'images2364_resized_linear_0414.txt', 'images2364_resized_linear_0414.txt', 'images2364_resized_linear_0414.txt', 'images2365_resized_linear_0414.txt', 'images2365_resized_linear_0414.txt', 'images2365_resized_linear_0414.txt', 'images2366_resized_linear_0414.txt', 'images2366_resized_linear_0414.txt', 'images2366_resized_linear_0414.txt', 'images2367_resized_linear_0414.txt', 'images2367_resized_linear_0414.txt', 'images2367_resized_linear_0414.txt', 'images2368_resized_linear_0414.txt', 'images2368_resized_linear_0414.txt', 'images2368_resized_linear_0414.txt', 'images2369_resized_linear_0414.txt', 'images2369_resized_linear_0414.txt', 'images2369_resized_linear_0414.txt', 'images2370_resized_linear_0414.txt', 'images2370_resized_linear_0414.txt', 'images2370_resized_linear_0414.txt', 'images2371_resized_linear_0414.txt', 'images2371_resized_linear_0414.txt', 'images2371_resized_linear_0414.txt', 'images2372_resized_linear_0414.txt', 'images2372_resized_linear_0414.txt', 'images2372_resized_linear_0414.txt', 'images2373_resized_linear_0414.txt', 'images2373_resized_linear_0414.txt', 'images2373_resized_linear_0414.txt', 'images2374_resized_linear_0414.txt', 'images2374_resized_linear_0414.txt', 'images2374_resized_linear_0414.txt', 'images2375_resized_linear_0414.txt', 'images2375_resized_linear_0414.txt', 'images2375_resized_linear_0414.txt', 'images2376_resized_linear_0414.txt', 'images2376_resized_linear_0414.txt', 'images2376_resized_linear_0414.txt', 'images2377_resized_linear_0414.txt', 'images2377_resized_linear_0414.txt', 'images2377_resized_linear_0414.txt', 'images2378_resized_linear_0414.txt', 'images2378_resized_linear_0414.txt', 'images2378_resized_linear_0414.txt', 'images2379_resized_linear_0414.txt', 'images2379_resized_linear_0414.txt', 'images2379_resized_linear_0414.txt', 'images2380_resized_linear_0414.txt', 'images2380_resized_linear_0414.txt', 'images2380_resized_linear_0414.txt', 'images2381_resized_linear_0414.txt', 'images2381_resized_linear_0414.txt', 'images2381_resized_linear_0414.txt', 'images2382_resized_linear_0414.txt', 'images2382_resized_linear_0414.txt', 'images2382_resized_linear_0414.txt', 'images2383_resized_linear_0414.txt', 'images2383_resized_linear_0414.txt', 'images2383_resized_linear_0414.txt', 'images2384_resized_linear_0414.txt', 'images2384_resized_linear_0414.txt', 'images2384_resized_linear_0414.txt', 'images2385_resized_linear_0414.txt', 'images2385_resized_linear_0414.txt', 'images2385_resized_linear_0414.txt', 'images2386_resized_linear_0414.txt', 'images2386_resized_linear_0414.txt', 'images2386_resized_linear_0414.txt', 'images2387_resized_linear_0414.txt', 'images2387_resized_linear_0414.txt', 'images2387_resized_linear_0414.txt', 'images2388_resized_linear_0414.txt', 'images2388_resized_linear_0414.txt', 'images2388_resized_linear_0414.txt', 'images2416_resized_linear_0414.txt', 'images2416_resized_linear_0414.txt', 'images2416_resized_linear_0414.txt', 'images2417_resized_linear_0414.txt', 'images2417_resized_linear_0414.txt', 'images2417_resized_linear_0414.txt', 'images2418_resized_linear_0414.txt', 'images2418_resized_linear_0414.txt', 'images2418_resized_linear_0414.txt', 'images2419_resized_linear_0414.txt', 'images2419_resized_linear_0414.txt', 'images2419_resized_linear_0414.txt', 'images2420_resized_linear_0414.txt', 'images2420_resized_linear_0414.txt', 'images2420_resized_linear_0414.txt', 'images2421_resized_linear_0414.txt', 'images2421_resized_linear_0414.txt', 'images2421_resized_linear_0414.txt', 'images2422_resized_linear_0414.txt', 'images2422_resized_linear_0414.txt', 'images2422_resized_linear_0414.txt', 'images2422_resized_linear_0414.txt', 'images2423_resized_linear_0414.txt', 'images2423_resized_linear_0414.txt', 'images2423_resized_linear_0414.txt', 'images2423_resized_linear_0414.txt', 'images2424_resized_linear_0414.txt', 'images2424_resized_linear_0414.txt', 'images2424_resized_linear_0414.txt', 'images2424_resized_linear_0414.txt', 'images2425_resized_linear_0414.txt', 'images2425_resized_linear_0414.txt', 'images2426_resized_linear_0414.txt', 'images2427_resized_linear_0414.txt', 'images3061_resized_linear_0414.txt', 'images3062_resized_linear_0414.txt', 'images3063_resized_linear_0414.txt', 'images3202_resized_linear_0414.txt', 'images3202_resized_linear_0414.txt', 'images3203_resized_linear_0414.txt', 'images3203_resized_linear_0414.txt', 'images3204_resized_linear_0414.txt', 'images3204_resized_linear_0414.txt', 'images3205_resized_linear_0414.txt', 'images3205_resized_linear_0414.txt', 'images3206_resized_linear_0414.txt', 'images3206_resized_linear_0414.txt', 'images3207_resized_linear_0414.txt', 'images3207_resized_linear_0414.txt', 'images3208_resized_linear_0414.txt', 'images3208_resized_linear_0414.txt', 'images3209_resized_linear_0414.txt', 'images3209_resized_linear_0414.txt', 'images3210_resized_linear_0414.txt', 'images3210_resized_linear_0414.txt', 'images3211_resized_linear_0414.txt', 'images3211_resized_linear_0414.txt', 'images3212_resized_linear_0414.txt', 'images3212_resized_linear_0414.txt', 'images3213_resized_linear_0414.txt', 'images3213_resized_linear_0414.txt', 'images3214_resized_linear_0414.txt', 'images3214_resized_linear_0414.txt', 'images3215_resized_linear_0414.txt', 'images3215_resized_linear_0414.txt', 'images3216_resized_linear_0414.txt', 'images3216_resized_linear_0414.txt', 'images3217_resized_linear_0414.txt', 'images3217_resized_linear_0414.txt', 'images3231_resized_linear_0414.txt', 'images3535_resized_linear_0414.txt', 'images3536_resized_linear_0414.txt', 'images3537_resized_linear_0414.txt', 'images3537_resized_linear_0414.txt', 'images3538_resized_linear_0414.txt', 'images3538_resized_linear_0414.txt', 'images3539_resized_linear_0414.txt', 'images3539_resized_linear_0414.txt', 'images3540_resized_linear_0414.txt', 'images3541_resized_linear_0414.txt', 'images3541_resized_linear_0414.txt', 'images3542_resized_linear_0414.txt', 'images3543_resized_linear_0414.txt', 'images4062_resized_linear_0414.txt', 'images4063_resized_linear_0414.txt', 'images4064_resized_linear_0414.txt', 'images4151_resized_linear_0414.txt', 'images4151_resized_linear_0414.txt', 'images4151_resized_linear_0414.txt', 'images4204_resized_linear_0414.txt', 'images4204_resized_linear_0414.txt', 'images4204_resized_linear_0414.txt', 'images4204_resized_linear_0414.txt', 'images4205_resized_linear_0414.txt', 'images4205_resized_linear_0414.txt', 'images4205_resized_linear_0414.txt', 'images4205_resized_linear_0414.txt', 'images4206_resized_linear_0414.txt', 'images4206_resized_linear_0414.txt', 'images4206_resized_linear_0414.txt', 'images4206_resized_linear_0414.txt', 'images4207_resized_linear_0414.txt', 'images4207_resized_linear_0414.txt', 'images4207_resized_linear_0414.txt', 'images4207_resized_linear_0414.txt', 'images4208_resized_linear_0414.txt', 'images4208_resized_linear_0414.txt', 'images4208_resized_linear_0414.txt', 'images4208_resized_linear_0414.txt', 'images4209_resized_linear_0414.txt', 'images4209_resized_linear_0414.txt', 'images4209_resized_linear_0414.txt', 'images4209_resized_linear_0414.txt', 'images4210_resized_linear_0414.txt', 'images4210_resized_linear_0414.txt', 'images4211_resized_linear_0414.txt', 'images4211_resized_linear_0414.txt', 'images4212_resized_linear_0414.txt', 'images4212_resized_linear_0414.txt', 'images4213_resized_linear_0414.txt', 'images4213_resized_linear_0414.txt', 'images4214_resized_linear_0414.txt', 'images4214_resized_linear_0414.txt', 'images4215_resized_linear_0414.txt', 'images4215_resized_linear_0414.txt', 'images4216_resized_linear_0414.txt', 'images4216_resized_linear_0414.txt', 'images4217_resized_linear_0414.txt', 'images4217_resized_linear_0414.txt', 'images4218_resized_linear_0414.txt', 'images4218_resized_linear_0414.txt', 'images4218_resized_linear_0414.txt', 'images4218_resized_linear_0414.txt', 'images4219_resized_linear_0414.txt', 'images4219_resized_linear_0414.txt', 'images4219_resized_linear_0414.txt', 'images4219_resized_linear_0414.txt', 'images4220_resized_linear_0414.txt', 'images4220_resized_linear_0414.txt', 'images4220_resized_linear_0414.txt', 'images4220_resized_linear_0414.txt', 'images4222_resized_linear_0414.txt', 'images4274_resized_linear_0414.txt', 'images4344_resized_linear_0414.txt', 'images4345_resized_linear_0414.txt', 'images4346_resized_linear_0414.txt', 'images4347_resized_linear_0414.txt', 'images4348_resized_linear_0414.txt', 'images4349_resized_linear_0414.txt', 'images4350_resized_linear_0414.txt', 'images4351_resized_linear_0414.txt', 'images4352_resized_linear_0414.txt', 'images4353_resized_linear_0414.txt', 'images4354_resized_linear_0414.txt', 'images4355_resized_linear_0414.txt', 'images4356_resized_linear_0414.txt', 'images4357_resized_linear_0414.txt', 'images4358_resized_linear_0414.txt', 'images4359_resized_linear_0414.txt', 'images4361_resized_linear_0414.txt', 'images4362_resized_linear_0414.txt', 'images4362_resized_linear_0414.txt', 'images4362_resized_linear_0414.txt', 'images4362_resized_linear_0414.txt', 'images4397_resized_linear_0414.txt', 'images4397_resized_linear_0414.txt', 'images4397_resized_linear_0414.txt', 'images4398_resized_linear_0414.txt', 'images4398_resized_linear_0414.txt', 'images4398_resized_linear_0414.txt', 'images4399_resized_linear_0414.txt', 'images4399_resized_linear_0414.txt', 'images4399_resized_linear_0414.txt', 'images4400_resized_linear_0414.txt', 'images4400_resized_linear_0414.txt', 'images4400_resized_linear_0414.txt', 'images4401_resized_linear_0414.txt', 'images4401_resized_linear_0414.txt', 'images4401_resized_linear_0414.txt', 'images4401_resized_linear_0414.txt', 'images4402_resized_linear_0414.txt', 'images4402_resized_linear_0414.txt', 'images4402_resized_linear_0414.txt', 'images4402_resized_linear_0414.txt', 'images4403_resized_linear_0414.txt', 'images4403_resized_linear_0414.txt', 'images4403_resized_linear_0414.txt', 'images4403_resized_linear_0414.txt', 'images4404_resized_linear_0414.txt', 'images4404_resized_linear_0414.txt', 'images4404_resized_linear_0414.txt', 'images4404_resized_linear_0414.txt', 'images4405_resized_linear_0414.txt', 'images4405_resized_linear_0414.txt', 'images4405_resized_linear_0414.txt', 'images4405_resized_linear_0414.txt', 'images4406_resized_linear_0414.txt', 'images4406_resized_linear_0414.txt', 'images4407_resized_linear_0414.txt', 'images4407_resized_linear_0414.txt', 'images4408_resized_linear_0414.txt', 'images4408_resized_linear_0414.txt', 'images4408_resized_linear_0414.txt', 'images4409_resized_linear_0414.txt', 'images4409_resized_linear_0414.txt', 'images4426_resized_linear_0414.txt', 'images4426_resized_linear_0414.txt', 'images4426_resized_linear_0414.txt', 'images4426_resized_linear_0414.txt', 'images4466_resized_linear_0414.txt', 'images4466_resized_linear_0414.txt', 'images4466_resized_linear_0414.txt', 'images4466_resized_linear_0414.txt', 'images4467_resized_linear_0414.txt', 'images4467_resized_linear_0414.txt', 'images4467_resized_linear_0414.txt', 'images4467_resized_linear_0414.txt', 'images4468_resized_linear_0414.txt', 'images4468_resized_linear_0414.txt', 'images4468_resized_linear_0414.txt', 'images4468_resized_linear_0414.txt', 'images4469_resized_linear_0414.txt', 'images4469_resized_linear_0414.txt', 'images4469_resized_linear_0414.txt', 'images4469_resized_linear_0414.txt', 'images4470_resized_linear_0414.txt', 'images4470_resized_linear_0414.txt', 'images4470_resized_linear_0414.txt', 'images4470_resized_linear_0414.txt', 'images4471_resized_linear_0414.txt', 'images4471_resized_linear_0414.txt', 'images4471_resized_linear_0414.txt', 'images4471_resized_linear_0414.txt', 'images4472_resized_linear_0414.txt', 'images4472_resized_linear_0414.txt', 'images4472_resized_linear_0414.txt', 'images4472_resized_linear_0414.txt', 'images4473_resized_linear_0414.txt', 'images4473_resized_linear_0414.txt', 'images4473_resized_linear_0414.txt', 'images4473_resized_linear_0414.txt', 'images4474_resized_linear_0414.txt', 'images4474_resized_linear_0414.txt', 'images4474_resized_linear_0414.txt', 'images4474_resized_linear_0414.txt', 'images4475_resized_linear_0414.txt', 'images4475_resized_linear_0414.txt', 'images4475_resized_linear_0414.txt', 'images4475_resized_linear_0414.txt', 'images4476_resized_linear_0414.txt', 'images4476_resized_linear_0414.txt', 'images4476_resized_linear_0414.txt', 'images4476_resized_linear_0414.txt', 'images4477_resized_linear_0414.txt', 'images4477_resized_linear_0414.txt', 'images4477_resized_linear_0414.txt', 'images4477_resized_linear_0414.txt', 'images4508_resized_linear_0414.txt', 'images4508_resized_linear_0414.txt', 'images4508_resized_linear_0414.txt', 'images4508_resized_linear_0414.txt', 'images4509_resized_linear_0414.txt', 'images4509_resized_linear_0414.txt', 'images4509_resized_linear_0414.txt', 'images4509_resized_linear_0414.txt', 'images4510_resized_linear_0414.txt', 'images4510_resized_linear_0414.txt', 'images4510_resized_linear_0414.txt', 'images4510_resized_linear_0414.txt', 'images4511_resized_linear_0414.txt', 'images4511_resized_linear_0414.txt', 'images4511_resized_linear_0414.txt', 'images4511_resized_linear_0414.txt', 'images4512_resized_linear_0414.txt', 'images4512_resized_linear_0414.txt', 'images4512_resized_linear_0414.txt', 'images4512_resized_linear_0414.txt', 'images4513_resized_linear_0414.txt', 'images4513_resized_linear_0414.txt', 'images4513_resized_linear_0414.txt', 'images4513_resized_linear_0414.txt', 'images4514_resized_linear_0414.txt', 'images4514_resized_linear_0414.txt', 'images4514_resized_linear_0414.txt', 'images4514_resized_linear_0414.txt', 'images4515_resized_linear_0414.txt', 'images4515_resized_linear_0414.txt', 'images4515_resized_linear_0414.txt', 'images4515_resized_linear_0414.txt', 'images4516_resized_linear_0414.txt', 'images4516_resized_linear_0414.txt', 'images4516_resized_linear_0414.txt', 'images4516_resized_linear_0414.txt', 'images4517_resized_linear_0414.txt', 'images4517_resized_linear_0414.txt', 'images4517_resized_linear_0414.txt', 'images4517_resized_linear_0414.txt', 'images4518_resized_linear_0414.txt', 'images4518_resized_linear_0414.txt', 'images4518_resized_linear_0414.txt', 'images4518_resized_linear_0414.txt', 'images4519_resized_linear_0414.txt', 'images4519_resized_linear_0414.txt', 'images4519_resized_linear_0414.txt', 'images4519_resized_linear_0414.txt', 'images4520_resized_linear_0414.txt', 'images4520_resized_linear_0414.txt', 'images4520_resized_linear_0414.txt', 'images4520_resized_linear_0414.txt', 'images4521_resized_linear_0414.txt', 'images4521_resized_linear_0414.txt', 'images4521_resized_linear_0414.txt', 'images4521_resized_linear_0414.txt', 'images4522_resized_linear_0414.txt', 'images4522_resized_linear_0414.txt', 'images4522_resized_linear_0414.txt', 'images4522_resized_linear_0414.txt', 'images4523_resized_linear_0414.txt', 'images4523_resized_linear_0414.txt', 'images4523_resized_linear_0414.txt', 'images4523_resized_linear_0414.txt', 'images4524_resized_linear_0414.txt', 'images4524_resized_linear_0414.txt', 'images4524_resized_linear_0414.txt', 'images4524_resized_linear_0414.txt', 'images4525_resized_linear_0414.txt', 'images4525_resized_linear_0414.txt', 'images4525_resized_linear_0414.txt', 'images4525_resized_linear_0414.txt', 'images4526_resized_linear_0414.txt', 'images4526_resized_linear_0414.txt', 'images4526_resized_linear_0414.txt', 'images4526_resized_linear_0414.txt', 'images4527_resized_linear_0414.txt', 'images4527_resized_linear_0414.txt', 'images4527_resized_linear_0414.txt', 'images4527_resized_linear_0414.txt', 'images4528_resized_linear_0414.txt', 'images4528_resized_linear_0414.txt', 'images4528_resized_linear_0414.txt', 'images4528_resized_linear_0414.txt', 'images4529_resized_linear_0414.txt', 'images4529_resized_linear_0414.txt', 'images4564_resized_linear_0414.txt', 'images4564_resized_linear_0414.txt', 'images4564_resized_linear_0414.txt', 'images4564_resized_linear_0414.txt', 'images4565_resized_linear_0414.txt', 'images4565_resized_linear_0414.txt', 'images4565_resized_linear_0414.txt', 'images4566_resized_linear_0414.txt', 'images4566_resized_linear_0414.txt', 'images4566_resized_linear_0414.txt', 'images4566_resized_linear_0414.txt', 'images4567_resized_linear_0414.txt', 'images4567_resized_linear_0414.txt', 'images4567_resized_linear_0414.txt', 'images4568_resized_linear_0414.txt', 'images4568_resized_linear_0414.txt', 'images4568_resized_linear_0414.txt', 'images4569_resized_linear_0414.txt', 'images4569_resized_linear_0414.txt', 'images4569_resized_linear_0414.txt', 'images4570_resized_linear_0414.txt', 'images4571_resized_linear_0414.txt', 'images4572_resized_linear_0414.txt', 'images4643_resized_linear_0414.txt', 'images4659_resized_linear_0414.txt']\n"
     ]
    }
   ],
   "source": [
    "import os\n",
    "\n",
    "# file_dir = \"/home001/yousung.choi/projects/project_coordination/tools/Cartucho/mAP/input/detection-results\"\n",
    "file_dir = \"/home001/yousung.choi/projects/project_coordination/tools/Cartucho/mAP/input/detection-results_V30\"\n",
    "files = os.listdir(file_dir)\n",
    "\n",
    "weird_files = []\n",
    "for file_name in files:\n",
    "    with open(file_dir + \"/\" + file_name, 'r') as f:\n",
    "        for i, line in enumerate(f.readlines()):\n",
    "            if i > 0:\n",
    "                weird_files.append(file_name)\n",
    "#     break    \n",
    "weird_files.sort()\n",
    "print(weird_files)"
   ]
  },
  {
   "cell_type": "markdown",
   "metadata": {},
   "source": [
    "#### What if invalid files (< .5) are treated as vaild (그러니까, 50% 이하로 분류된 녀석들이 FN 로 분류될 수 있는 것인가 Cartucho 에서.)\n"
   ]
  },
  {
   "cell_type": "code",
   "execution_count": 20,
   "metadata": {},
   "outputs": [
    {
     "name": "stderr",
     "output_type": "stream",
     "text": [
      "100%|██████████| 1154/1154 [00:00<00:00, 49249.86it/s]\n"
     ]
    }
   ],
   "source": [
    "import os\n",
    "\n",
    "file_dir = '/home001/yousung.choi/projects/project_coordination/tools/Cartucho/mAP/input/detection-results_Rainbow/'\n",
    "\n",
    "files = os.listdir(file_dir)\n",
    "\n",
    "fp_files = set()\n",
    "for i, file in enumerate(tqdm(files)):\n",
    "    with open(file_dir + file, 'r') as f:\n",
    "        for j, line in enumerate(f.readlines()):\n",
    "            data = line.split()\n",
    "            if (len(data) < 3):\n",
    "                print(file)\n",
    "#     break        \n",
    "    \n"
   ]
  },
  {
   "cell_type": "code",
   "execution_count": 19,
   "metadata": {},
   "outputs": [
    {
     "name": "stderr",
     "output_type": "stream",
     "text": [
      "100%|██████████| 1154/1154 [00:00<00:00, 39449.90it/s]"
     ]
    },
    {
     "name": "stdout",
     "output_type": "stream",
     "text": [
      "images1658_resized_linear_0414.txt :  0.6893851\n",
      "images4149_resized_linear_0414.txt :  0.6528983\n",
      "images1470_resized_linear_0414.txt :  0.68327826\n",
      "images2420_resized_linear_0414.txt :  0.67757064\n",
      "images2257_resized_linear_0414.txt :  0.6658753\n",
      "images3296_resized_linear_0414.txt :  0.68886006\n",
      "images4426_resized_linear_0414.txt :  0.6117384\n",
      "images4361_resized_linear_0414.txt :  0.62190527\n",
      "images1540_resized_linear_0414.txt :  0.60498846\n",
      "images2387_resized_linear_0414.txt :  0.6558724\n",
      "images13425_resized_linear_0414.txt :  0.68587685\n"
     ]
    },
    {
     "name": "stderr",
     "output_type": "stream",
     "text": [
      "\n"
     ]
    }
   ],
   "source": [
    "import os\n",
    "\n",
    "file_dir = '/home001/yousung.choi/projects/project_coordination/tools/Cartucho/mAP/input/detection-results_Rainbow/'\n",
    "\n",
    "files = os.listdir(file_dir)\n",
    "\n",
    "fp_files = set()\n",
    "for i, file in enumerate(tqdm(files)):\n",
    "    with open(file_dir + file, 'r') as f:\n",
    "        for j, line in enumerate(f.readlines()):\n",
    "            data = line.split()\n",
    "            score = float(data[1])\n",
    "            if score < 0.7:\n",
    "                print(file, ': ', score)\n",
    "#     break        \n",
    "    \n"
   ]
  },
  {
   "cell_type": "code",
   "execution_count": 15,
   "metadata": {},
   "outputs": [
    {
     "name": "stdout",
     "output_type": "stream",
     "text": [
      "{0, 1, 2, 3, 4}\n",
      "{0, 1, 2, 3, 4}\n"
     ]
    }
   ],
   "source": [
    "fp_files = set()\n",
    "for i in range(5):\n",
    "    fp_files.add(i)\n",
    "    \n",
    "print(fp_files)    \n",
    "\n",
    "for i in range(5):\n",
    "    fp_files.add(i)\n",
    "    \n",
    "print(fp_files)    "
   ]
  },
  {
   "cell_type": "code",
   "execution_count": 33,
   "metadata": {},
   "outputs": [
    {
     "name": "stderr",
     "output_type": "stream",
     "text": [
      "  0%|          | 0/547 [00:05<?, ?it/s]"
     ]
    },
    {
     "name": "stdout",
     "output_type": "stream",
     "text": [
      "tf.Tensor([0.01664126 0.01636073 0.01454771 0.01287827 0.01130536], shape=(5,), dtype=float32)\n"
     ]
    },
    {
     "name": "stderr",
     "output_type": "stream",
     "text": [
      "\n"
     ]
    }
   ],
   "source": [
    "import os\n",
    "\n",
    "file_dir = '/home001/yousung.choi/projects/project_coordination/tools/1_datasets/2_video_to_imgs/Rainbow_Test/13_Qmemo_typing_and_drawing/invalid/'\n",
    "\n",
    "files = os.listdir(file_dir)\n",
    "\n",
    "for file in files:\n",
    "    if not file.endswith('.jpg'):\n",
    "        files.remove(file)\n",
    "\n",
    "for i, file in enumerate(tqdm(files)):\n",
    "    image_path = os.path.join(file_dir, file)\n",
    "    image_np = load_image_into_numpy_array(image_path)\n",
    "    input_tensor = np.expand_dims(image_np, 0)\n",
    "    \n",
    "    detections = detect_fn(input_tensor)\n",
    "        \n",
    "    # get output after inference\n",
    "    true_idx = detections['detection_scores'][0] > 0.1\n",
    "    break\n",
    "#     true_idx = detections['detection_scores'][0] > 0.6\n",
    "#     scores = detections['detection_scores'][0][true_idx].numpy()\n",
    "#     boxes = detections['detection_boxes'][0][true_idx].numpy() * 640\n",
    "#     boxes = np.around(boxes).astype(int)\n",
    "#     classes = detections['detection_classes'][0][true_idx].numpy().astype(np.int32)\n",
    "    \n"
   ]
  },
  {
   "cell_type": "code",
   "execution_count": null,
   "metadata": {},
   "outputs": [],
   "source": []
  }
 ],
 "metadata": {
  "kernelspec": {
   "display_name": "Python 3",
   "language": "python",
   "name": "python3"
  },
  "language_info": {
   "codemirror_mode": {
    "name": "ipython",
    "version": 3
   },
   "file_extension": ".py",
   "mimetype": "text/x-python",
   "name": "python",
   "nbconvert_exporter": "python",
   "pygments_lexer": "ipython3",
   "version": "3.7.10"
  }
 },
 "nbformat": 4,
 "nbformat_minor": 4
}
