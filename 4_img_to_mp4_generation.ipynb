{
 "cells": [
  {
   "cell_type": "code",
   "execution_count": 1,
   "metadata": {},
   "outputs": [],
   "source": [
    "import tensorflow as tf\n",
    "import os\n",
    "os.environ[\"CUDA_DEVICE_ORDER\"]=\"PCI_BUS_ID\"   \n",
    "os.environ[\"CUDA_VISIBLE_DEVICES\"]=\"1\"\n"
   ]
  },
  {
   "cell_type": "code",
   "execution_count": 2,
   "metadata": {},
   "outputs": [
    {
     "name": "stdout",
     "output_type": "stream",
     "text": [
      "2.3.0\n",
      "[PhysicalDevice(name='/physical_device:GPU:0', device_type='GPU')]\n"
     ]
    }
   ],
   "source": [
    "import tensorflow as tf\n",
    "print(tf.__version__)\n",
    "print(tf.config.list_physical_devices('GPU'))"
   ]
  },
  {
   "cell_type": "code",
   "execution_count": null,
   "metadata": {},
   "outputs": [],
   "source": [
    "# TODO : 이미지들을 전체 읽어들인 후 60Fps 의 동영상으로 저장하기.\n",
    "# 이를 Android 에서 받아서 추론에 사용하기 위함.\n",
    "\n",
    "import os\n",
    "import random\n",
    "import cv2\n",
    "from tqdm import tqdm\n",
    "\n",
    "file_path = '/home/yousungchoi/projects/project_coordination/workspace/training_demo/images/inference_original_image'\n",
    "file_names = os.listdir(file_path)\n",
    "\n",
    "elapsed = []\n",
    "obj_cnted_more = []\n",
    "obj_not_cnted = []\n",
    "obj_cnt = 0\n",
    "total_obj_cnt = 0\n",
    "\n",
    "# setting for Video output\n",
    "video_output = '/home/yousungchoi/projects/project_coordination/workspace/training_demo/images/inference_original_image/output_1st_720x1440_320320_model.mp4'\n",
    "fourcc = cv2.VideoWriter_fourcc(*'XVID')\n",
    "out = cv2.VideoWriter(video_output, fourcc, 10.0, (720, 1440))\n",
    "# random.shuffle(file_names)\n",
    "file_names.sort()\n",
    "for i, file in enumerate(tqdm(file_names)):\n",
    "    if file.endswith('jpg'):\n",
    "        image_path = os.path.join(file_path, file)\n",
    "        image_cv2 = cv2.imread(image_path, cv2.IMREAD_COLOR)\n",
    "        image_np = cv2.cvtColor(image_cv2, cv2.COLOR_BGR2RGB)\n",
    "        input_tensor = np.expand_dims(image_np, 0)\n",
    "\n",
    "        start_time = time.time()\n",
    "        detections = detect_fn(input_tensor)\n",
    "        end_time = time.time()\n",
    "        elapsed.append(end_time - start_time)\n",
    "\n",
    "        plt.rcParams['figure.figsize'] = [10, 10]\n",
    "        label_id_offset = 1\n",
    "        image_np_with_detections = image_cv2.copy()\n",
    "        viz_utils.visualize_boxes_and_labels_on_image_array(\n",
    "              image_np_with_detections,\n",
    "              detections['detection_boxes'][0].numpy(),\n",
    "              detections['detection_classes'][0].numpy().astype(np.int32),\n",
    "              detections['detection_scores'][0].numpy(),\n",
    "              category_index,\n",
    "              use_normalized_coordinates=True,\n",
    "              max_boxes_to_draw=200,\n",
    "              min_score_thresh=.60,\n",
    "              agnostic_mode=False)\n",
    "        \n",
    "        if cv2.waitKey(1) & 0xFF == ord('q'):\n",
    "            break\n",
    "\n",
    "        obj_cnt = len(np.where(detections['detection_scores'][0].numpy() > 0.6)[0])\n",
    "        total_obj_cnt += obj_cnt\n",
    "    \n",
    "        if obj_cnt == 0 :\n",
    "            obj_not_cnted.append(file)\n",
    "#             print('No Count!!')\n",
    "        elif obj_cnt > 1:\n",
    "            obj_cnted_more.append(file)\n",
    "#             print('Count more then 2!!')\n",
    "            \n",
    "        cv2.putText(image_np_with_detections, 'Counted {0:1d}'.format(total_obj_cnt), (20,20), cv2.FONT_HERSHEY_SIMPLEX,0.6,(255,0,0),2,cv2.LINE_AA)\n",
    "        cv2.putText(image_np_with_detections, 'noCount {0:1d}'.format(len(obj_not_cnted)), (180,20), cv2.FONT_HERSHEY_SIMPLEX,0.6,(255,0,0),2,cv2.LINE_AA)\n",
    "        cv2.putText(image_np_with_detections, 'Dbl Cnt {0:1d}'.format(len(obj_cnted_more)), (20,50), cv2.FONT_HERSHEY_SIMPLEX,0.6,(255,0,0),2,cv2.LINE_AA)\n",
    "        \n",
    "        if i == len(file_names)-5:\n",
    "            print(image_np_with_detections.shape)\n",
    "            plt.imshow(image_np_with_detections)\n",
    "#         elif i == 1001:\n",
    "#             break\n",
    "\n",
    "        out.write(image_np_with_detections)\n",
    "        \n",
    "out.release()\n",
    "\n",
    "mean_elapsed = sum(elapsed) / float(len(elapsed))\n",
    "print('Elapsed time: ' + str(mean_elapsed) + ' second per image')\n",
    "\n",
    "print('Total obj_cnt : ', total_obj_cnt)\n",
    "print('obj_not_cnted : ', len(obj_not_cnted))\n",
    "print(obj_not_cnted)\n",
    "print('obj_cnt_more : ', len(obj_cnted_more))\n",
    "print(obj_cnted_more)\n",
    "\n",
    "\n",
    "# print(detections.keys())"
   ]
  }
 ],
 "metadata": {
  "kernelspec": {
   "display_name": "Python 3",
   "language": "python",
   "name": "python3"
  },
  "language_info": {
   "codemirror_mode": {
    "name": "ipython",
    "version": 3
   },
   "file_extension": ".py",
   "mimetype": "text/x-python",
   "name": "python",
   "nbconvert_exporter": "python",
   "pygments_lexer": "ipython3",
   "version": "3.7.9"
  }
 },
 "nbformat": 4,
 "nbformat_minor": 4
}
